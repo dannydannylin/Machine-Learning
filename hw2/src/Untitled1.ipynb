{
 "cells": [
  {
   "cell_type": "code",
   "execution_count": 1,
   "metadata": {},
   "outputs": [
    {
     "data": {
      "text/plain": [
       "<Figure size 640x480 with 1 Axes>"
      ]
     },
     "metadata": {},
     "output_type": "display_data"
    }
   ],
   "source": [
    "import pandas as pd\n",
    "import numpy as np\n",
    "from sklearn.preprocessing import StandardScaler\n",
    "from sklearn.decomposition import PCA\n",
    "import matplotlib.pyplot as plt\n",
    "\n",
    "# question 5\n",
    "\n",
    "df = pd.read_csv(\"../data/breast-cancer-wisconsin.data\")\n",
    "\n",
    "df.replace('?', np.nan, inplace = True)  # 把 \"?\" 變成 Nan\n",
    "\n",
    "df.dropna(axis = 0, inplace = True)  # 把缺失值拿掉\n",
    "\n",
    "df.reset_index(drop=True, inplace=True) # 重新 index 一次\n",
    "# 不然會有 index 不一的狀況\n",
    "\n",
    "df.drop(['id'], 1, inplace = True)  # 把位在\"行\"的 id 拿掉\n",
    "\n",
    "# 把 type 轉成 float ( astype(float) )\n",
    "\n",
    "X = df.drop(['Class'], 1).astype(float)  # 把位在\"行\"的 class 拿掉\n",
    "Y = df['Class'].astype(float) # 把 class 抽出來\n",
    "\n",
    "# 正規劃\n",
    "Standard_X = StandardScaler().fit_transform(X)\n",
    "\n",
    "pca = PCA( n_components = 9 )\n",
    "\n",
    "principalComponents = pca.fit_transform(Standard_X)\n",
    "\n",
    "variance = pca.explained_variance_ratio_\n",
    "\n",
    "var = np.cumsum(np.round(pca.explained_variance_ratio_, decimals=3)*100)\n",
    "\n",
    "plt.ylabel('% Variance Explained')\n",
    "plt.xlabel('# of Features')\n",
    "plt.title('PCA Analysis')\n",
    "plt.ylim(60,100.5)\n",
    "plt.style.context('seaborn-whitegrid')\n",
    "\n",
    "plt.plot(var)\n",
    "plt.show()"
   ]
  },
  {
   "cell_type": "code",
   "execution_count": 3,
   "metadata": {},
   "outputs": [
    {
     "name": "stdout",
     "output_type": "stream",
     "text": [
      "[ 65.5  74.1  80.1  85.2  89.4  92.8  96.1  99.  100. ]\n"
     ]
    },
    {
     "data": {
      "image/png": "[encoded data removed]",
      "text/plain": [
       "<Figure size 432x288 with 1 Axes>"
      ]
     },
     "metadata": {
      "needs_background": "light"
     },
     "output_type": "display_data"
    }
   ],
   "source": [
    "import pandas as pd\n",
    "import numpy as np\n",
    "from sklearn.preprocessing import StandardScaler\n",
    "from sklearn.decomposition import PCA\n",
    "import matplotlib.pyplot as plt\n",
    "\n",
    "# question 5\n",
    "\n",
    "df = pd.read_csv(\"../data/breast-cancer-wisconsin.data\")\n",
    "\n",
    "df.replace('?', np.nan, inplace = True)  # 把 \"?\" 變成 Nan\n",
    "\n",
    "df.dropna(axis = 0, inplace = True)  # 把缺失值拿掉\n",
    "\n",
    "df.reset_index(drop=True, inplace=True) # 重新 index 一次\n",
    "# 不然會有 index 不一的狀況\n",
    "\n",
    "df.drop(['id'], 1, inplace = True)  # 把位在\"行\"的 id 拿掉\n",
    "\n",
    "# 把 type 轉成 float ( astype(float) )\n",
    "\n",
    "X = df.drop(['Class'], 1).astype(float)  # 把位在\"行\"的 class 拿掉\n",
    "Y = df['Class'].astype(float) # 把 class 抽出來\n",
    "\n",
    "# 正規劃\n",
    "Standard_X = StandardScaler().fit_transform(X)\n",
    "\n",
    "pca = PCA( n_components = 9 )\n",
    "\n",
    "principalComponents = pca.fit_transform(Standard_X)\n",
    "\n",
    "variance = pca.explained_variance_ratio_\n",
    "\n",
    "var = np.cumsum(np.round(pca.explained_variance_ratio_, decimals=3)*100)\n",
    "\n",
    "plt.ylabel('% Variance Explained')\n",
    "plt.xlabel('# of Features')\n",
    "plt.title('PCA Analysis')\n",
    "plt.ylim(60,100.5)\n",
    "plt.style.context('seaborn-whitegrid')\n",
    "\n",
    "plt.plot(var)\n",
    "print( var )\n",
    "plt.show()"
   ]
  },
  {
   "cell_type": "code",
   "execution_count": null,
   "metadata": {},
   "outputs": [],
   "source": []
  }
 ],
 "metadata": {
  "kernelspec": {
   "display_name": "Python 3",
   "language": "python",
   "name": "python3"
  },
  "language_info": {
   "codemirror_mode": {
    "name": "ipython",
    "version": 3
   },
   "file_extension": ".py",
   "mimetype": "text/x-python",
   "name": "python",
   "nbconvert_exporter": "python",
   "pygments_lexer": "ipython3",
   "version": "3.7.1"
  }
 },
 "nbformat": 4,
 "nbformat_minor": 2
}
